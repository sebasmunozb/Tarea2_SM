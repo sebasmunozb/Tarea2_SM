{
 "cells": [
  {
   "cell_type": "markdown",
   "metadata": {},
   "source": [
    "**Why Python is so popular with developers: 3 reasons the language has exploded**\n",
    "- Python es el lenguaje de programación de más rápido crecimiento en el mundo, ya que se utiliza cada vez más en una amplia gama de puestos de trabajo de desarrolladores y puestos de ciencia de datos en las industrias\n",
    "- \"Python es muy popular debido a su conjunto de bibliotecas robustas que lo hacen un lenguaje de programación tan dinámico y rápido\", dijo Kristen Sosulski, profesor asociado clínico de información, operaciones y ciencias de la gestión en la Leonard N. Stern School of Business de la Universidad de Nueva York, y autor de Data Visualization Made Simple. \"Está orientado a objetos, y realmente permite todo, desde la creación de un sitio web, el desarrollo de aplicaciones, hasta la creación de diferentes tipos de modelos de datos.\"\n",
    "- Facilidad de aprendizaje Python se clasifica constantemente como uno de los lenguajes de programación más fáciles de aprender, y es conocido por su alta fiabilidad y sintaxis simple, que son un atractivo para los nuevos programadores en particular\n",
    "- La explosión de la IA, el aprendizaje automático y la ciencia de datos en la empresa Growth in Python ha sido más rápida entre los científicos de datos, y en particular los que trabajan en el aprendizaje automático, Stack Overflow encontrado. \"De acuerdo con los datos que tenemos, los patrones de visitas que vemos personas que usan Python para la ciencia de datos es lo que está detrás del aumento realmente dramático en el uso de Python\", dijo Silge.\n",
    "- Una gran comunidad de desarrolladores Python se utiliza en un gran número de aplicaciones desde inteligencia artificial, videojuegos, herramientas de productividad. \"Dado que ha disfrutado de una amplia difusión y aceptación en muchas disciplinas, ahora tiene una enorme comunidad de desarrolladores\", dijo Panetta. \"Hay una abundancia de bibliotecas de código abierto Python disponibles que lo más probable es lograr lo que necesita para ayudar a resolver su problema.\""
   ]
  },
  {
   "cell_type": "markdown",
   "metadata": {},
   "source": [
    "**Python has brought computer programming to a vast new audience**\n",
    "- EN DICIEMBRE DE 1989 Guido van Rossum, un informático holandés, se montó un proyecto navideño. Irritado por las deficiencias en otros lenguajes de programación, quería construir el suyo propio. Sus principios eran simples. Primero, debería ser fácil de leer. En lugar de extenderse sobre las terminaciones de línea y ser roto por una maraña de tirantes rizados, cada trozo estaría rodeado de espacio blanco dentado. En segundo lugar, debería permitir a los usuarios crear sus propios paquetes de módulos de codificación especiales, que podrían ponerse a disposición de otros para formar la base de nuevos programas. En tercer lugar, quería un nombre \"corto, único y un poco misterioso\". Por lo tanto, lo llamó después de Monty Python, un grupo de comedia británica. El repositorio de paquetes se conoció como la Quesería.\n"
   ]
  },
  {
   "cell_type": "code",
   "execution_count": null,
   "metadata": {},
   "outputs": [],
   "source": []
  }
 ],
 "metadata": {
  "kernelspec": {
   "display_name": "Python 3",
   "language": "python",
   "name": "python3"
  },
  "language_info": {
   "codemirror_mode": {
    "name": "ipython",
    "version": 3
   },
   "file_extension": ".py",
   "mimetype": "text/x-python",
   "name": "python",
   "nbconvert_exporter": "python",
   "pygments_lexer": "ipython3",
   "version": "3.8.3"
  }
 },
 "nbformat": 4,
 "nbformat_minor": 4
}
